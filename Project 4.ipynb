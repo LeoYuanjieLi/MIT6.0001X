{
 "cells": [
  {
   "cell_type": "markdown",
   "metadata": {},
   "source": [
    "# Introduction\n",
    "\n",
    "In this problem set, you'll implement two versions of a wordgame!\n",
    "\n",
    "Don't be intimidated by the length of this problem set. There is a lot of reading, but it can be done with a reasonable amount of thinking and coding. It'll be helpful if you start this problem set a few days before it is due!\n",
    "\n",
    "Let's begin by describing the 6.00 wordgame: This game is a lot like Scrabble or Words With Friends, if you've played those. Letters are dealt to players, who then construct one or more words out of their letters. Each valid word receives a score, based on the length of the word and the letters in that word.\n",
    "\n",
    "The rules of the game are as follows:\n",
    "\n",
    "Dealing\n",
    "A player is dealt a hand of n letters chosen at random (assume n=7 for now).\n",
    "\n",
    "The player arranges the hand into as many words as they want out of the letters, using each letter at most once.\n",
    "\n",
    "Some letters may remain unused (these won't be scored).\n",
    "\n",
    "Scoring\n",
    "The score for the hand is the sum of the scores for each word formed.\n",
    "\n",
    "The score for a word is the sum of the points for letters in the word, multiplied by the length of the word, plus 50 points if all n letters are used on the first word created.\n",
    "\n",
    "Letters are scored as in Scrabble; A is worth 1, B is worth 3, C is worth 3, D is worth 2, E is worth 1, and so on. We have defined the dictionary SCRABBLE_LETTER_VALUES that maps each lowercase letter to its Scrabble letter value.\n",
    "\n",
    "For example, 'weed' would be worth 32 points ((4+1+1+2) for the four letters, then multiply by len('weed') to get (4+1+1+2)*4 = 32). Be sure to check that the hand actually has 1 'w', 2 'e's, and 1 'd' before scoring the word!\n",
    "\n",
    "As another example, if n=7 and you make the word 'waybill' on the first try, it would be worth 155 points (the base score for 'waybill' is (4+1+4+3+1+1+1)*7=105, plus an additional 50 point bonus for using all n letters).\n",
    "\n",
    "## Sample Output\n",
    "\n",
    "    Here is how the game output will look!\n",
    "\n",
    "    Loading word list from file...\n",
    "       83667 words loaded.\n",
    "    Enter n to deal a new hand, r to replay the last hand, or e to end game: n\n",
    "    Current Hand: p z u t t t o\n",
    "    Enter word, or a \".\" to indicate that you are finished: tot\n",
    "    \"tot\" earned 9 points. Total: 9 points\n",
    "    Current Hand: p z u t\n",
    "    Enter word, or a \".\" to indicate that you are finished: .\n",
    "    Total score: 9 points.\n",
    "\n",
    "    Enter n to deal a new hand, r to replay the last hand, or e to end game: r\n",
    "    Current Hand: p z u t t t o\n",
    "    Enter word, or a \".\" to indicate that you are finished: top\n",
    "    \"top\" earned 15 points. Total: 15 points\n",
    "    Current Hand: z u t t\n",
    "    Enter word, or a \".\" to indicate that you are finished: tu\n",
    "    Invalid word, please try again.\n",
    "    Current Hand: z u t t\n",
    "    Enter word, or a \".\" to indicate that you are finished: .\n",
    "    Total score: 15 points.\n",
    "\n",
    "    Enter n to deal a new hand, r to replay the last hand, or e to end game: n\n",
    "    Current Hand: a q w f f i p\n",
    "    Enter word, or a \".\" to indicate that you are finished: paw\n",
    "    \"paw\" earned 24 points. Total: 24 points\n",
    "    Current Hand: q f f i\n",
    "    Enter word, or a \".\" to indicate that you are finished: qi\n",
    "    \"qi\" earned 22 points. Total: 46 points\n",
    "    Current Hand: f f\n",
    "    Enter word, or a \".\" to indicate that you are finished: .\n",
    "    Total score: 46 points.\n",
    "\n",
    "    Enter n to deal a new hand, r to replay the last hand, or e to end game: n\n",
    "    Current Hand: a r e t i i n\n",
    "    Enter word, or a \".\" to indicate that you are finished: inertia\n",
    "    \"inertia\" earned 99 points. Total: 99 points\n",
    "    Run out of letters. Total score: 99 points.\n",
    "\n",
    "    Enter n to deal a new hand, r to replay the last hand, or e to end game: e"
   ]
  },
  {
   "cell_type": "markdown",
   "metadata": {},
   "source": [
    "# Problem 1 - Word Scores\n",
    "\n",
    "The first step is to implement some code that allows us to calculate the score for a single word. The function getWordScore should accept as input a string of lowercase letters (a word) and return the integer score for that word, using the game's scoring rules.\n",
    "\n",
    "A Reminder of the Scoring Rules\n",
    "\n",
    "Hints\n",
    "\n",
    "You may assume that the input word is always either a string of lowercase letters, or the empty string \"\".\n",
    "You will want to use the SCRABBLE_LETTER_VALUES dictionary defined at the top of ps4a.py. You should not change its value.\n",
    "Do not assume that there are always 7 letters in a hand! The parameter n is the number of letters required for a bonus score (the maximum number of letters in the hand). Our goal is to keep the code modular - if you want to try playing your word game with n=10 or n=4, you will be able to do it by simply changing the value of HAND_SIZE!\n",
    "Testing: If this function is implemented properly, and you run test_ps4a.py, you should see that the test_getWordScore() tests pass. Also test your implementation of getWordScore, using some reasonable English words.\n",
    "Fill in the code for getWordScore in ps4a.py and be sure you've passed the appropriate tests in test_ps4a.py before pasting your function definition here."
   ]
  },
  {
   "cell_type": "code",
   "execution_count": 13,
   "metadata": {
    "collapsed": false
   },
   "outputs": [
    {
     "name": "stdout",
     "output_type": "stream",
     "text": [
      "Loading word list from file...\n",
      "   83667 words loaded.\n"
     ]
    }
   ],
   "source": [
    "# The 6.00 Word Game\n",
    "\n",
    "import random\n",
    "import string\n",
    "\n",
    "VOWELS = 'aeiou'\n",
    "CONSONANTS = 'bcdfghjklmnpqrstvwxyz'\n",
    "HAND_SIZE = 7\n",
    "\n",
    "SCRABBLE_LETTER_VALUES = {\n",
    "    'a': 1, 'b': 3, 'c': 3, 'd': 2, 'e': 1, 'f': 4, 'g': 2, 'h': 4, 'i': 1, 'j': 8, 'k': 5, 'l': 1, 'm': 3, 'n': 1, 'o': 1, 'p': 3, 'q': 10, 'r': 1, 's': 1, 't': 1, 'u': 1, 'v': 4, 'w': 4, 'x': 8, 'y': 4, 'z': 10\n",
    "}\n",
    "\n",
    "# -----------------------------------\n",
    "# Helper code\n",
    "# (you don't need to understand this helper code)\n",
    "\n",
    "WORDLIST_FILENAME = \"words.txt\"\n",
    "\n",
    "def loadWords():\n",
    "    \"\"\"\n",
    "    Returns a list of valid words. Words are strings of lowercase letters.\n",
    "    \n",
    "    Depending on the size of the word list, this function may\n",
    "    take a while to finish.\n",
    "    \"\"\"\n",
    "    print(\"Loading word list from file...\")\n",
    "    # inFile: file\n",
    "    inFile = open(WORDLIST_FILENAME, 'r')\n",
    "    # wordList: list of strings\n",
    "    wordList = []\n",
    "    for line in inFile:\n",
    "        wordList.append(line.strip().lower())\n",
    "    print(\"  \", len(wordList), \"words loaded.\")\n",
    "    return wordList\n",
    "\n",
    "def getFrequencyDict(sequence):\n",
    "    \"\"\"\n",
    "    Returns a dictionary where the keys are elements of the sequence\n",
    "    and the values are integer counts, for the number of times that\n",
    "    an element is repeated in the sequence.\n",
    "\n",
    "    sequence: string or list\n",
    "    return: dictionary\n",
    "    \"\"\"\n",
    "    # freqs: dictionary (element_type -> int)\n",
    "    freq = {}\n",
    "    for x in sequence:\n",
    "        freq[x] = freq.get(x,0) + 1\n",
    "    return freq\n",
    "\n",
    "\n",
    "# (end of helper code)\n",
    "# -----------------------------------\n",
    "\n",
    "def getWordScore(word, n):\n",
    "    \"\"\"\n",
    "    Returns the score for a word. Assumes the word is a valid word.\n",
    "\n",
    "    The score for a word is the sum of the points for letters in the\n",
    "    word, multiplied by the length of the word, PLUS 50 points if all n\n",
    "    letters are used on the first turn.\n",
    "\n",
    "    Letters are scored as in Scrabble; A is worth 1, B is worth 3, C is\n",
    "    worth 3, D is worth 2, E is worth 1, and so on (see SCRABBLE_LETTER_VALUES)\n",
    "\n",
    "    word: string (lowercase letters)\n",
    "    n: integer (HAND_SIZE; i.e., hand size required for additional points)\n",
    "    returns: int >= 0\n",
    "    \"\"\"\n",
    "    score = 0\n",
    "    for l in word:\n",
    "        score += SCRABBLE_LETTER_VALUES[l]\n",
    "    score = len(word)*score\n",
    "    if len(word) == n:\n",
    "        score += 50\n",
    "\n",
    "    return score\n",
    "\n",
    "wordList = loadWords()"
   ]
  },
  {
   "cell_type": "code",
   "execution_count": 14,
   "metadata": {
    "collapsed": false
   },
   "outputs": [
    {
     "data": {
      "text/plain": [
       "0"
      ]
     },
     "execution_count": 14,
     "metadata": {},
     "output_type": "execute_result"
    }
   ],
   "source": [
    "getWordScore('', 10)"
   ]
  },
  {
   "cell_type": "code",
   "execution_count": 15,
   "metadata": {
    "collapsed": false
   },
   "outputs": [
    {
     "data": {
      "text/plain": [
       "22"
      ]
     },
     "execution_count": 15,
     "metadata": {},
     "output_type": "execute_result"
    }
   ],
   "source": [
    "getWordScore('qi', 7)"
   ]
  },
  {
   "cell_type": "code",
   "execution_count": 16,
   "metadata": {
    "collapsed": false
   },
   "outputs": [
    {
     "data": {
      "text/plain": [
       "242"
      ]
     },
     "execution_count": 16,
     "metadata": {},
     "output_type": "execute_result"
    }
   ],
   "source": [
    "getWordScore('onomatopoeia', 12)"
   ]
  },
  {
   "cell_type": "markdown",
   "metadata": {},
   "source": [
    "# Problem 2 - Dealing with Hands\n",
    "\n",
    "**Please read this problem entirely!!** The majority of this problem consists of learning how to read code, which is an incredibly useful and important skill. At the end, you will implement a short function. Be sure to take your time on this problem - it may seem easy, but reading someone else's code can be challenging and this is an important exercise.\n",
    "\n",
    "\n",
    "Representing hands\n",
    "\n",
    "A hand is the set of letters held by a player during the game. The player is initially dealt a set of random letters. For example, the player could start out with the following hand: a, q, l, m, u, i, l. In our program, a hand will be represented as a dictionary: the keys are (lowercase) letters and the values are the number of times the particular letter is repeated in that hand. For example, the above hand would be represented as:\n",
    "\n",
    "hand = {'a':1, 'q':1, 'l':2, 'm':1, 'u':1, 'i':1}    \n",
    "Notice how the repeated letter 'l' is represented. Remember that with a dictionary, the usual way to access a value is hand['a'], where 'a' is the key we want to find. However, this only works if the key is in the dictionary; otherwise, we get a KeyError. To avoid this, we can use the call hand.get('a',0). This is the \"safe\" way to access a value if we are not sure the key is in the dictionary. d.get(key,default) returns the value for key if key is in the dictionary d, else default. If default is not given, it returns None, so that this method never raises a KeyError. For example:\n",
    "\n",
    ">>> hand['e']\n",
    "Traceback (most recent call last):\n",
    "  File \"<stdin>\", line 1, in <module>\n",
    "KeyError: 'e'\n",
    ">>> hand.get('e', 0)\n",
    "0\n",
    "Converting words into dictionary representation\n",
    "\n",
    "One useful function we've defined for you is getFrequencyDict, defined near the top of ps4a.py. When given a string of letters as an input, it returns a dictionary where the keys are letters and the values are the number of times that letter is represented in the input string. For example:\n",
    "\n",
    ">>> getFrequencyDict(\"hello\")\n",
    "{'h': 1, 'e': 1, 'l': 2, 'o': 1}\n",
    "As you can see, this is the same kind of dictionary we use to represent hands.\n",
    "\n",
    "Displaying a hand\n",
    "\n",
    "Given a hand represented as a dictionary, we want to display it in a user-friendly way. We have provided the implementation for this in the displayHand function. Take a few minutes right now to read through this function carefully and understand what it does and how it works.\n",
    "\n",
    "Generating a random hand\n",
    "\n",
    "The hand a player is dealt is a set of letters chosen at random. We provide you with the implementation of a function that generates this random hand, dealHand. The function takes as input a positive integer n, and returns a new object, a hand containing n lowercase letters. Again, take a few minutes (right now!) to read through this function carefully and understand what it does and how it works.\n",
    "\n",
    "Removing letters from a hand (you implement this)\n",
    "\n",
    "The player starts with a hand, a set of letters. As the player spells out words, letters from this set are used up. For example, the player could start out with the following hand: a, q, l, m, u, i, l. The player could choose to spell the word quail . This would leave the following letters in the player's hand: l, m. Your task is to implement the function updateHand, which takes in two inputs - a hand and a word (string). updateHand uses letters from the hand to spell the word, and then returns a copy of the hand, containing only the letters remaining. For example:\n",
    "\n",
    ">>> hand = {'a':1, 'q':1, 'l':2, 'm':1, 'u':1, 'i':1}\n",
    ">>> displayHand(hand) # Implemented for you\n",
    "a q l l m u i\n",
    ">>> hand = updateHand(hand, 'quail') # You implement this function!\n",
    ">>> hand\n",
    "{'a':0, 'q':0, 'l':1, 'm':1, 'u':0, 'i':0}\n",
    ">>> displayHand(hand)\n",
    "l m  \n",
    "Implement the updateHand function. Make sure this function has no side effects: i.e., it must not mutate the hand passed in. Before pasting your function definition here, be sure you've passed the appropriate tests in test_ps4a.py.\n",
    "\n",
    "Hints\n",
    "Testing\n",
    "Copying Dictionaries\n",
    "\n",
    "Your implementation of updateHand should be short (ours is 4 lines of code). It does not need to call any helper functions."
   ]
  },
  {
   "cell_type": "code",
   "execution_count": 30,
   "metadata": {
    "collapsed": true
   },
   "outputs": [],
   "source": [
    "#\n",
    "# Problem #2: Make sure you understand how this function works and what it does!\n",
    "#\n",
    "def displayHand(hand):\n",
    "    \"\"\"\n",
    "    Displays the letters currently in the hand.\n",
    "\n",
    "    For example:\n",
    "    >>> displayHand({'a':1, 'x':2, 'l':3, 'e':1})\n",
    "    Should print out something like:\n",
    "       a x x l l l e\n",
    "    The order of the letters is unimportant.\n",
    "\n",
    "    hand: dictionary (string -> int)\n",
    "    \"\"\"\n",
    "    for letter in hand.keys():\n",
    "        for j in range(hand[letter]):\n",
    "             print(letter,end=\" \")       # print all on the same line\n",
    "    print()                             # print an empty line\n",
    "\n",
    "#\n",
    "# Problem #2: Make sure you understand how this function works and what it does!\n",
    "#\n",
    "def dealHand(n):\n",
    "    \"\"\"\n",
    "    Returns a random hand containing n lowercase letters.\n",
    "    At least n/3 the letters in the hand should be VOWELS.\n",
    "\n",
    "    Hands are represented as dictionaries. The keys are\n",
    "    letters and the values are the number of times the\n",
    "    particular letter is repeated in that hand.\n",
    "\n",
    "    n: int >= 0\n",
    "    returns: dictionary (string -> int)\n",
    "    \"\"\"\n",
    "    hand={}\n",
    "    numVowels = n // 3\n",
    "    \n",
    "    for i in range(numVowels):\n",
    "        x = VOWELS[random.randrange(0,len(VOWELS))]\n",
    "        hand[x] = hand.get(x, 0) + 1\n",
    "        \n",
    "    for i in range(numVowels, n):    \n",
    "        x = CONSONANTS[random.randrange(0,len(CONSONANTS))]\n",
    "        hand[x] = hand.get(x, 0) + 1\n",
    "        \n",
    "    return hand\n",
    "\n",
    "def updateHand(hand, word):\n",
    "    \"\"\"\n",
    "    Assumes that 'hand' has all the letters in word.\n",
    "    In other words, this assumes that however many times\n",
    "    a letter appears in 'word', 'hand' has at least as\n",
    "    many of that letter in it. \n",
    "\n",
    "    Updates the hand: uses up the letters in the given word\n",
    "    and returns the new hand, without those letters in it.\n",
    "\n",
    "    Has no side effects: does not modify hand.\n",
    "\n",
    "    word: string\n",
    "    hand: dictionary (string -> int)    \n",
    "    returns: dictionary (string -> int)\n",
    "    \"\"\"\n",
    "    updatedHand = dict(hand)\n",
    "    for l in word:\n",
    "        updatedHand[l] -= 1\n",
    "    return updatedHand"
   ]
  },
  {
   "cell_type": "code",
   "execution_count": 31,
   "metadata": {
    "collapsed": false
   },
   "outputs": [
    {
     "data": {
      "text/plain": [
       "{'a': 0, 'i': 0, 'l': 1, 'm': 1, 'q': 0, 'u': 0}"
      ]
     },
     "execution_count": 31,
     "metadata": {},
     "output_type": "execute_result"
    }
   ],
   "source": [
    "updateHand({'a': 1, 'm': 1, 'l': 2, 'u': 1, 'i': 1, 'q': 1}, 'quail')"
   ]
  },
  {
   "cell_type": "code",
   "execution_count": 32,
   "metadata": {
    "collapsed": false
   },
   "outputs": [
    {
     "data": {
      "text/plain": [
       "{'e': 1,\n",
       " 'i': 2,\n",
       " 'o': 3,\n",
       " 'p': 2,\n",
       " 'q': 3,\n",
       " 'r': 1,\n",
       " 't': 1,\n",
       " 'u': 3,\n",
       " 'w': 2,\n",
       " 'y': 2}"
      ]
     },
     "execution_count": 32,
     "metadata": {},
     "output_type": "execute_result"
    }
   ],
   "source": [
    "updateHand({'e': 3, 'i': 3, 'p': 3, 'o': 3, 't': 3, 'w': 3, 'u': 3, 'y': 3, 'r': 3, 'q': 3}, 'typewriter')"
   ]
  },
  {
   "cell_type": "markdown",
   "metadata": {},
   "source": [
    "# Problem 3 - Valid Words\n",
    "\n",
    "At this point, we have written code to generate a random hand and display that hand to the user. We can also ask the user for a word (Python's input) and score the word (using your getWordScore). However, at this point we have not written any code to verify that a word given by a player obeys the rules of the game. A valid word is in the word list; and it is composed entirely of letters from the current hand. Implement the isValidWord function.\n",
    "\n",
    "Testing: Make sure the test_isValidWord tests pass. In addition, you will want to test your implementation by calling it multiple times on the same hand - what should the correct behavior be? Additionally, the empty string ('') is not a valid word - if you code this function correctly, you shouldn't need an additional check for this condition.\n",
    "\n",
    "Fill in the code for isValidWord in ps4a.py and be sure you've passed the appropriate tests in test_ps4a.py before pasting your function definition here."
   ]
  },
  {
   "cell_type": "code",
   "execution_count": 33,
   "metadata": {
    "collapsed": true
   },
   "outputs": [],
   "source": [
    "def isValidWord(word, hand, wordList):\n",
    "    \"\"\"\n",
    "    Returns True if word is in the wordList and is entirely\n",
    "    composed of letters in the hand. Otherwise, returns False.\n",
    "\n",
    "    Does not mutate hand or wordList.\n",
    "   \n",
    "    word: string\n",
    "    hand: dictionary (string -> int)\n",
    "    wordList: list of lowercase strings\n",
    "    \"\"\"\n",
    "    handCopy = dict(hand)\n",
    "    if not word in wordList:\n",
    "        return False\n",
    "    for l in word:\n",
    "        if (not l in handCopy) or handCopy[l] == 0:\n",
    "            return False\n",
    "        handCopy[l] -= 1\n",
    "    return True\n"
   ]
  },
  {
   "cell_type": "code",
   "execution_count": 34,
   "metadata": {
    "collapsed": false
   },
   "outputs": [
    {
     "data": {
      "text/plain": [
       "False"
      ]
     },
     "execution_count": 34,
     "metadata": {},
     "output_type": "execute_result"
    }
   ],
   "source": [
    "isValidWord(\"kwijibo\", {'b': 1, 'k': 1, 'o': 1, 'i': 2, 'j': 1, 'w': 1}, wordList)"
   ]
  },
  {
   "cell_type": "code",
   "execution_count": 35,
   "metadata": {
    "collapsed": false
   },
   "outputs": [
    {
     "data": {
      "text/plain": [
       "True"
      ]
     },
     "execution_count": 35,
     "metadata": {},
     "output_type": "execute_result"
    }
   ],
   "source": [
    "isValidWord('hammer', {'e': 1, 'r': 1, 'm': 2, 'h': 1, 'a': 1}, wordList)"
   ]
  },
  {
   "cell_type": "markdown",
   "metadata": {},
   "source": [
    "# Problem 4 - Hand Length\n",
    "\n",
    "We are now ready to begin writing the code that interacts with the player. We'll be implementing the playHand function. This function allows the user to play out a single hand. First, though, you'll need to implement the helper calculateHandlen function, which can be done in under five lines of code."
   ]
  },
  {
   "cell_type": "code",
   "execution_count": 36,
   "metadata": {
    "collapsed": true
   },
   "outputs": [],
   "source": [
    "def calculateHandlen(hand):\n",
    "    \"\"\" \n",
    "    Returns the length (number of letters) in the current hand.\n",
    "    \n",
    "    hand: dictionary (string int)\n",
    "    returns: integer\n",
    "    \"\"\"\n",
    "    length = 0\n",
    "    for key in hand:\n",
    "            length += hand[key]\n",
    "    return length"
   ]
  },
  {
   "cell_type": "code",
   "execution_count": 37,
   "metadata": {
    "collapsed": false
   },
   "outputs": [
    {
     "data": {
      "text/plain": [
       "2"
      ]
     },
     "execution_count": 37,
     "metadata": {},
     "output_type": "execute_result"
    }
   ],
   "source": [
    "calculateHandlen({'b': 1, 'a': 1})"
   ]
  },
  {
   "cell_type": "code",
   "execution_count": 38,
   "metadata": {
    "collapsed": false
   },
   "outputs": [
    {
     "data": {
      "text/plain": [
       "16"
      ]
     },
     "execution_count": 38,
     "metadata": {},
     "output_type": "execute_result"
    }
   ],
   "source": [
    "calculateHandlen({'c': 1, 't': 1, 'e': 1, 'q': 2, 'o': 1, 'j': 1, 'k': 3, 'p': 1, 'f': 2, 's': 3})"
   ]
  },
  {
   "cell_type": "markdown",
   "metadata": {},
   "source": [
    "# Problem 5 - Playing a Hand\n",
    "\n",
    "In ps4a.py, note that in the function playHand, there is a bunch of pseudocode. This pseudocode is provided to help guide you in writing your function. Check out the Why Pseudocode? resource to learn more about the What and Why of Pseudocode before you start coding your solution.\n",
    "\n",
    "Note: Do not assume that there will always be 7 letters in a hand! The parameter n represents the size of the hand.\n",
    "\n",
    "Testing: Before testing your code in the answer box, try out your implementation as if you were playing the game. Here is some example output of playHand:"
   ]
  },
  {
   "cell_type": "code",
   "execution_count": 39,
   "metadata": {
    "collapsed": true
   },
   "outputs": [],
   "source": [
    "def playHand(hand, wordList, n):\n",
    "    \"\"\"\n",
    "    Allows the user to play the given hand, as follows:\n",
    "\n",
    "    * The hand is displayed.\n",
    "    * The user may input a word or a single period (the string \".\") \n",
    "      to indicate they're done playing\n",
    "    * Invalid words are rejected, and a message is displayed asking\n",
    "      the user to choose another word until they enter a valid word or \".\"\n",
    "    * When a valid word is entered, it uses up letters from the hand.\n",
    "    * After every valid word: the score for that word is displayed,\n",
    "      the remaining letters in the hand are displayed, and the user\n",
    "      is asked to input another word.\n",
    "    * The sum of the word scores is displayed when the hand finishes.\n",
    "    * The hand finishes when there are no more unused letters or the user\n",
    "      inputs a \".\"\n",
    "\n",
    "      hand: dictionary (string -> int)\n",
    "      wordList: list of lowercase strings\n",
    "      n: integer (HAND_SIZE; i.e., hand size required for additional points)\n",
    "      \n",
    "    \"\"\"\n",
    "    totalScore = 0\n",
    "    end = False\n",
    "    while calculateHandlen(hand)>0 and not end:\n",
    "        print(\"Current Hand: \", end = \"\")\n",
    "        displayHand(hand)\n",
    "        word = input('Enter word, or a \".\" to indicate that you are finished: ')\n",
    "        if word == \".\":\n",
    "            end = True\n",
    "        elif not isValidWord(word, hand, wordList):\n",
    "            print(\"Invalid word, please try again.\")\n",
    "            print('\\n')\n",
    "        else:\n",
    "            currentScore = getWordScore(word, n)\n",
    "            totalScore += currentScore\n",
    "            hand = updateHand(hand, word)\n",
    "            print(word, \"earned\", currentScore, \"points. Total:\", totalScore, \"points\")\n",
    "            print('\\n')\n",
    "\n",
    "    if calculateHandlen(hand)== 0:\n",
    "        print(\"Run out of letters. Total score:\",  totalScore, \"points\")\n",
    "    else:\n",
    "        print(\"Goodbye! Total score:\", totalScore)"
   ]
  },
  {
   "cell_type": "code",
   "execution_count": 40,
   "metadata": {
    "collapsed": false
   },
   "outputs": [
    {
     "name": "stdout",
     "output_type": "stream",
     "text": [
      "Current Hand: h i c z m m a \n",
      "Enter word, or a \".\" to indicate that you are finished: him\n",
      "him earned 24 points. Total: 24 points\n",
      "\n",
      "\n",
      "Current Hand: c z m a \n",
      "Enter word, or a \".\" to indicate that you are finished: cam\n",
      "cam earned 21 points. Total: 45 points\n",
      "\n",
      "\n",
      "Current Hand: z \n",
      "Enter word, or a \".\" to indicate that you are finished: .\n",
      "Goodbye! Total score: 45\n"
     ]
    }
   ],
   "source": [
    "playHand({'h':1, 'i':1, 'c':1, 'z':1, 'm':2, 'a':1}, wordList, 7)"
   ]
  },
  {
   "cell_type": "code",
   "execution_count": 41,
   "metadata": {
    "collapsed": false
   },
   "outputs": [
    {
     "name": "stdout",
     "output_type": "stream",
     "text": [
      "Current Hand: n e t a r i i \n",
      "Enter word, or a \".\" to indicate that you are finished: inertia\n",
      "inertia earned 99 points. Total: 99 points\n",
      "\n",
      "\n",
      "Run out of letters. Total score: 99 points\n"
     ]
    }
   ],
   "source": [
    "playHand({'n':1, 'e':1, 't':1, 'a':1, 'r':1, 'i':2}, wordList, 7)"
   ]
  },
  {
   "cell_type": "markdown",
   "metadata": {},
   "source": [
    "# Problem 6 - Playing a Game\n",
    "\n",
    "A game consists of playing multiple hands. We need to implement one final function to complete our word-game program. Write the code that implements the playGame function. You should remove the code that is currently uncommented in the playGame body. Read through the specification and make sure you understand what this function accomplishes. For the game, you should use the HAND_SIZE constant to determine the number of cards in a hand.\n",
    "\n",
    "Testing: Try out this implementation as if you were playing the game. Try out different values for HAND_SIZE with your program, and be sure that you can play the wordgame with different hand sizes by modifying only the variable HAND_SIZE."
   ]
  },
  {
   "cell_type": "code",
   "execution_count": 42,
   "metadata": {
    "collapsed": true
   },
   "outputs": [],
   "source": [
    "def playGame(wordList):\n",
    "    \"\"\"\n",
    "    Allow the user to play an arbitrary number of hands.\n",
    " \n",
    "    1) Asks the user to input 'n' or 'r' or 'e'.\n",
    "      * If the user inputs 'n', let the user play a new (random) hand.\n",
    "      * If the user inputs 'r', let the user play the last hand again.\n",
    "      * If the user inputs 'e', exit the game.\n",
    "      * If the user inputs anything else, tell them their input was invalid.\n",
    " \n",
    "    2) When done playing the hand, repeat from step 1\n",
    "    \"\"\"\n",
    "    lastHand = 0\n",
    "    gameOver = False\n",
    "    while not gameOver:\n",
    "        userInput = input(\"Enter n to deal a new hand, r to replay the last hand, or e to end game:\")\n",
    "        if userInput == \"n\":\n",
    "            hand = dealHand(HAND_SIZE)\n",
    "            playHand(hand, wordList, HAND_SIZE)\n",
    "            lastHand = hand\n",
    "        elif userInput == \"r\":\n",
    "            if lastHand != 0:\n",
    "                playHand(lastHand, wordList, HAND_SIZE)\n",
    "            else:\n",
    "                print(\"You have not played a hand yet. Please play a new hand first!\")\n",
    "        elif userInput ==\"e\":\n",
    "            print(\"\")\n",
    "            gameOver = True\n",
    "        else:\n",
    "            print(\"Invalid command.\")\n"
   ]
  },
  {
   "cell_type": "code",
   "execution_count": 43,
   "metadata": {
    "collapsed": false
   },
   "outputs": [
    {
     "name": "stdout",
     "output_type": "stream",
     "text": [
      "Enter n to deal a new hand, r to replay the last hand, or e to end game:n\n",
      "Current Hand: e a z l f y m \n",
      "Enter word, or a \".\" to indicate that you are finished: fly\n",
      "fly earned 27 points. Total: 27 points\n",
      "\n",
      "\n",
      "Current Hand: e a z m \n",
      "Enter word, or a \".\" to indicate that you are finished: me\n",
      "me earned 8 points. Total: 35 points\n",
      "\n",
      "\n",
      "Current Hand: a z \n",
      "Enter word, or a \".\" to indicate that you are finished: .\n",
      "Goodbye! Total score: 35\n",
      "Enter n to deal a new hand, r to replay the last hand, or e to end game:e\n",
      "\n"
     ]
    }
   ],
   "source": [
    "playGame(wordList)"
   ]
  },
  {
   "cell_type": "code",
   "execution_count": 44,
   "metadata": {
    "collapsed": false
   },
   "outputs": [
    {
     "name": "stdout",
     "output_type": "stream",
     "text": [
      "Enter n to deal a new hand, r to replay the last hand, or e to end game:r\n",
      "You have not played a hand yet. Please play a new hand first!\n",
      "Enter n to deal a new hand, r to replay the last hand, or e to end game:n\n",
      "Current Hand: u i p j g b q \n",
      "Enter word, or a \".\" to indicate that you are finished: pig\n",
      "pig earned 18 points. Total: 18 points\n",
      "\n",
      "\n",
      "Current Hand: u j b q \n",
      "Enter word, or a \".\" to indicate that you are finished: .\n",
      "Goodbye! Total score: 18\n",
      "Enter n to deal a new hand, r to replay the last hand, or e to end game:r\n",
      "Current Hand: u i p j g b q \n",
      "Enter word, or a \".\" to indicate that you are finished: test\n",
      "Invalid word, please try again.\n",
      "\n",
      "\n",
      "Current Hand: u i p j g b q \n",
      "Enter word, or a \".\" to indicate that you are finished: big\n",
      "big earned 18 points. Total: 18 points\n",
      "\n",
      "\n",
      "Current Hand: u p j q \n",
      "Enter word, or a \".\" to indicate that you are finished: up\n",
      "up earned 8 points. Total: 26 points\n",
      "\n",
      "\n",
      "Current Hand: j q \n",
      "Enter word, or a \".\" to indicate that you are finished: .\n",
      "Goodbye! Total score: 26\n",
      "Enter n to deal a new hand, r to replay the last hand, or e to end game:e\n",
      "\n"
     ]
    }
   ],
   "source": [
    "playGame(wordList)"
   ]
  },
  {
   "cell_type": "markdown",
   "metadata": {},
   "source": [
    "# Computer Choosing a Word and Playing a Hand\n",
    "\n",
    "**Part B is dependent on your functions from ps4a.py, so be sure to complete ps4a.py before working on ps4b.py**\n",
    "\n",
    "Now that you have completed your word game code, you decide that you would like to enable your computer (SkyNet) to play the game (your hidden agenda is to prove once and for all that computers are inferior to human intellect!) In this part, you will be able to compare how you as a user succeed in the game compared to the computer's performance.\n",
    "\n",
    "You should look at the following two functions: compChooseWord and compPlayHand, before moving on to Problem 7 on the next page.\n",
    "\n",
    "compChooseWord\n",
    "\n",
    "If you follow the pseudocode for compChooseWord, you'll see that the code creates a computer player that is legal, but not always the best. Try to walk through and understand our implementation.\n",
    "\n",
    "A Note On Runtime: You may notice that things run a bit slowly when the computer plays. This is to be expected - the wordList has 83667 words, after all! \n",
    "\n",
    "Test Cases to Understand the Code: \n",
    ">>> compChooseWord({'a': 1, 'p': 2, 's': 1, 'e': 1, 'l': 1}, wordList, 6) \n",
    "appels \n",
    ">>> compChooseWord({'a': 2, 'c': 1, 'b': 1, 't': 1}, wordList, 5) \n",
    "acta \n",
    ">>> compChooseWord({'a': 2, 'e': 2, 'i': 2, 'm': 2, 'n': 2, 't': 2}, wordList, 12) \n",
    "immanent \n",
    ">>> compChooseWord({'x': 2, 'z': 2, 'q': 2, 'n': 2, 't': 2}, wordList, 12) \n",
    "None\n",
    "compPlayHand\n",
    "\n",
    "Now that we have the ability to let the computer choose a word, we need to set up a function to allow the computer to play a hand - in a manner very similar to Part A's playHand function. This function allows the computer to play a given hand and is very similar to the earlier version in which a user selected the word, although deciding when it is done playing a particular hand is different.\n",
    "\n",
    "Test Cases to Understand the Code: \n",
    "\n",
    "compPlayHand({'a': 1, 'p': 2, 's': 1, 'e': 1, 'l': 1}, wordList, 6)\n",
    "Current Hand: a p p s e l\n",
    "\"appels\" earned 110 points. Total: 110 points\n",
    "Total score: 110 points.\n",
    "\n",
    "compPlayHand({'a': 2, 'c': 1, 'b': 1, 't': 1}, wordList, 5)\n",
    "Current Hand: a a c b t \"acta\" \n",
    "earned 24 points. Total: 24 points \n",
    "Current Hand: b Total score: 24 points. \n",
    "\n",
    "compPlayHand({'a': 2, 'e': 2, 'i': 2, 'm': 2, 'n': 2, 't': 2}, wordList, 12)\n",
    "Current Hand: a a e e i i m m n n t t\n",
    "\"immanent\" earned 96 points. Total: 96 points\n",
    "Current Hand: a e t i\n",
    "\"ait\" earned 9 points. Total: 105 points\n",
    "Current Hand: e\n",
    "Total score: 105 points."
   ]
  },
  {
   "cell_type": "code",
   "execution_count": 47,
   "metadata": {
    "collapsed": true
   },
   "outputs": [],
   "source": [
    "import time\n",
    "\n",
    "\n",
    "#\n",
    "#\n",
    "# Computer chooses a word\n",
    "#\n",
    "#\n",
    "def compChooseWord(hand, wordList, n):\n",
    "    \"\"\"\n",
    "    Given a hand and a wordList, find the word that gives \n",
    "    the maximum value score, and return it.\n",
    "\n",
    "    This word should be calculated by considering all the words\n",
    "    in the wordList.\n",
    "\n",
    "    If no words in the wordList can be made from the hand, return None.\n",
    "\n",
    "    hand: dictionary (string -> int)\n",
    "    wordList: list (string)\n",
    "    n: integer (HAND_SIZE; i.e., hand size required for additional points)\n",
    "\n",
    "    returns: string or None\n",
    "    \"\"\"\n",
    "    # Create a new variable to store the maximum score seen so far (initially 0)\n",
    "    bestScore = 0\n",
    "    # Create a new variable to store the best word seen so far (initially None)  \n",
    "    bestWord = None\n",
    "    # For each word in the wordList\n",
    "    for word in wordList:\n",
    "        # If you can construct the word from your hand\n",
    "        if isValidWord(word, hand, wordList):\n",
    "            # find out how much making that word is worth\n",
    "            score = getWordScore(word, n)\n",
    "            # If the score for that word is higher than your best score\n",
    "            if (score > bestScore):\n",
    "                # update your best score, and best word accordingly\n",
    "                bestScore = score\n",
    "                bestWord = word\n",
    "    # return the best word you found.\n",
    "    return bestWord\n",
    "\n",
    "#\n",
    "# Computer plays a hand\n",
    "#\n",
    "def compPlayHand(hand, wordList, n):\n",
    "    \"\"\"\n",
    "    Allows the computer to play the given hand, following the same procedure\n",
    "    as playHand, except instead of the user choosing a word, the computer \n",
    "    chooses it.\n",
    "\n",
    "    1) The hand is displayed.\n",
    "    2) The computer chooses a word.\n",
    "    3) After every valid word: the word and the score for that word is \n",
    "    displayed, the remaining letters in the hand are displayed, and the \n",
    "    computer chooses another word.\n",
    "    4)  The sum of the word scores is displayed when the hand finishes.\n",
    "    5)  The hand finishes when the computer has exhausted its possible\n",
    "    choices (i.e. compChooseWord returns None).\n",
    " \n",
    "    hand: dictionary (string -> int)\n",
    "    wordList: list (string)\n",
    "    n: integer (HAND_SIZE; i.e., hand size required for additional points)\n",
    "    \"\"\"\n",
    "    # Keep track of the total score\n",
    "    totalScore = 0\n",
    "    # As long as there are still letters left in the hand:\n",
    "    while (calculateHandlen(hand) > 0) :\n",
    "        # Display the hand\n",
    "        print(\"Current Hand: \", end=' ')\n",
    "        displayHand(hand)\n",
    "        # computer's word\n",
    "        word = compChooseWord(hand, wordList, n)\n",
    "        # If the input is a single period:\n",
    "        if word == None:\n",
    "            # End the game (break out of the loop)\n",
    "            break\n",
    "            \n",
    "        # Otherwise (the input is not a single period):\n",
    "        else :\n",
    "            # If the word is not valid:\n",
    "            if (not isValidWord(word, hand, wordList)) :\n",
    "                print('This is a terrible error! I need to check my own code!')\n",
    "                break\n",
    "            # Otherwise (the word is valid):\n",
    "            else :\n",
    "                # Tell the user how many points the word earned, and the updated total score \n",
    "                score = getWordScore(word, n)\n",
    "                totalScore += score\n",
    "                print('\"' + word + '\" earned ' + str(score) + ' points. Total: ' + str(totalScore) + ' points')              \n",
    "                # Update hand and show the updated hand to the user\n",
    "                hand = updateHand(hand, word)\n",
    "                print()\n",
    "    # Game is over (user entered a '.' or ran out of letters), so tell user the total score\n",
    "    print('Total score: ' + str(totalScore) + ' points.')"
   ]
  },
  {
   "cell_type": "markdown",
   "metadata": {},
   "source": [
    "# Problem 7 - You and your Computer\n",
    "\n",
    "Now that your computer can choose a word, you need to give the computer the option to play. Write the code that re-implements the playGame function. You will modify the function to behave as described below in the function's comments. As before, you should use the HAND_SIZE constant to determine the number of cards in a hand. Be sure to try out different values for HAND_SIZE with your program."
   ]
  },
  {
   "cell_type": "code",
   "execution_count": null,
   "metadata": {
    "collapsed": true
   },
   "outputs": [],
   "source": [
    "def playGame(wordList):\n",
    "    \"\"\"\n",
    "    Allow the user to play an arbitrary number of hands.\n",
    " \n",
    "    1) Asks the user to input 'n' or 'r' or 'e'.\n",
    "        * If the user inputs 'e', immediately exit the game.\n",
    "        * If the user inputs anything that's not 'n', 'r', or 'e', keep asking them again.\n",
    "\n",
    "    2) Asks the user to input a 'u' or a 'c'.\n",
    "        * If the user inputs anything that's not 'c' or 'u', keep asking them again.\n",
    "\n",
    "    3) Switch functionality based on the above choices:\n",
    "        * If the user inputted 'n', play a new (random) hand.\n",
    "        * Else, if the user inputted 'r', play the last hand again.\n",
    "          But if no hand was played, output \"You have not played a hand yet. \n",
    "          Please play a new hand first!\"\n",
    "        \n",
    "        * If the user inputted 'u', let the user play the game\n",
    "          with the selected hand, using playHand.\n",
    "        * If the user inputted 'c', let the computer play the \n",
    "          game with the selected hand, using compPlayHand.\n",
    "\n",
    "    4) After the computer or user has played the hand, repeat from step 1\n",
    "\n",
    "    wordList: list (string)\n",
    "    \"\"\"\n",
    "    lastHand = 0\n",
    "    gameOver = False\n",
    "    while not gameOver:\n",
    "        userInput = input(\"Enter n to deal a new hand, r to replay the last hand, or e to end game: \")\n",
    "        if userInput == \"n\":\n",
    "            newGame = True\n",
    "            while newGame:\n",
    "                userInput2 = input(\"Enter u to have yourself play, c to have the computer play: \")\n",
    "                if userInput2 == \"u\":\n",
    "                    hand = dealHand(HAND_SIZE)\n",
    "                    playHand(hand, wordList, HAND_SIZE)\n",
    "                    print('\\n')\n",
    "                    lastHand = hand\n",
    "                    newGame = False\n",
    "                elif userInput2 == \"c\":\n",
    "                    hand = dealHand(HAND_SIZE)\n",
    "                    compPlayHand(hand, wordList, HAND_SIZE)\n",
    "                    print('\\n')\n",
    "                    lastHand = hand\n",
    "                    newGame = False\n",
    "                else:\n",
    "                    print(\"Invalid command.\")\n",
    "        elif userInput == \"r\":\n",
    "            if lastHand != 0:\n",
    "                userInput2 = input(\"Enter u to have yourself play, c to have the computer play: \")\n",
    "                repeatGame = True\n",
    "                while repeatGame:\n",
    "                    if userInput2 == \"u\":\n",
    "                        playHand(hand, wordList, HAND_SIZE)\n",
    "                        print('\\n')\n",
    "                        repeatGame = False\n",
    "                    elif userInput2 == \"c\":\n",
    "                        compPlayHand(hand, wordList, HAND_SIZE)\n",
    "                        repeatGame = False\n",
    "                    else:\n",
    "                        print(\"Invalid command.\")\n",
    "            else:\n",
    "                print(\"You have not played a hand yet. Please play a new hand first!\")              \n",
    "        elif userInput ==\"e\":\n",
    "            print(\"\")\n",
    "            gameOver = True\n",
    "        else:\n",
    "            print(\"Invalid command.\")"
   ]
  },
  {
   "cell_type": "code",
   "execution_count": 49,
   "metadata": {
    "collapsed": false
   },
   "outputs": [
    {
     "name": "stdout",
     "output_type": "stream",
     "text": [
      "Enter n to deal a new hand, r to replay the last hand, or e to end game: n\n",
      "Enter u to have yourself play, c to have the computer play: c\n",
      "Current Hand:  u a v s w t t \n",
      "\"twats\" earned 40 points. Total: 40 points\n",
      "\n",
      "Current Hand:  u v \n",
      "Total score: 40 points.\n",
      "\n",
      "\n",
      "Enter n to deal a new hand, r to replay the last hand, or e to end game: e\n",
      "\n"
     ]
    }
   ],
   "source": [
    "playGame(wordList)"
   ]
  },
  {
   "cell_type": "markdown",
   "metadata": {},
   "source": [
    "### I have to say the upper code takes a long time to execute... time complexity is n^2"
   ]
  },
  {
   "cell_type": "code",
   "execution_count": null,
   "metadata": {
    "collapsed": true
   },
   "outputs": [],
   "source": []
  }
 ],
 "metadata": {
  "kernelspec": {
   "display_name": "Python 3",
   "language": "python",
   "name": "python3"
  },
  "language_info": {
   "codemirror_mode": {
    "name": "ipython",
    "version": 3
   },
   "file_extension": ".py",
   "mimetype": "text/x-python",
   "name": "python",
   "nbconvert_exporter": "python",
   "pygments_lexer": "ipython3",
   "version": "3.6.0"
  }
 },
 "nbformat": 4,
 "nbformat_minor": 2
}
